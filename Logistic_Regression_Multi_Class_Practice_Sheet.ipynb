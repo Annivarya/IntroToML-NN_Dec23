{
  "nbformat": 4,
  "nbformat_minor": 0,
  "metadata": {
    "colab": {
      "provenance": [],
      "authorship_tag": "ABX9TyNOfvQbu88SQJw63fbIdbOg",
      "include_colab_link": true
    },
    "kernelspec": {
      "name": "python3",
      "display_name": "Python 3"
    },
    "language_info": {
      "name": "python"
    }
  },
  "cells": [
    {
      "cell_type": "markdown",
      "metadata": {
        "id": "view-in-github",
        "colab_type": "text"
      },
      "source": [
        "<a href=\"https://colab.research.google.com/github/SachinScaler/IntroToML-NN_Dec23/blob/main/Logistic_Regression_Multi_Class_Practice_Sheet.ipynb\" target=\"_parent\"><img src=\"https://colab.research.google.com/assets/colab-badge.svg\" alt=\"Open In Colab\"/></a>"
      ]
    },
    {
      "cell_type": "markdown",
      "source": [
        "**Challenge:** The world is full of handwritten digits! From grocery lists to bank checks, we encounter them everywhere. Can you build a computer program that accurately identifies these digits, even when they're messy or slightly different from how you write them?\n",
        "\n",
        "**Your Goal:** In this project, you'll are required to build a multi-Class Classication model, to train and recognize handwritten digits from the famous MNIST dataset.\n",
        "\n",
        "**Dataset Details**:\n",
        "\n",
        "- Size:\n",
        "Training set: 70,000 handwritten digits\n",
        "Test set: 10,000 handwritten digits\n",
        "- Image format:\n",
        "Grayscale images\n",
        "28 pixels x 28 pixels i.e 784 1 Dimensional Arrays.\n",
        "Pixel values range from 0 (black) to 255 (white)\n",
        "Labels:\n",
        "Each image is labeled with the corresponding digit (0-9)\n",
        "- Origin:\n",
        "Compiled from handwritten digits written by both high school students and Census Bureau employees\n",
        "Originally designed for NIST Special Database 3 and NIST Special Database 1"
      ],
      "metadata": {
        "id": "nrQFXqI5QPB9"
      }
    },
    {
      "cell_type": "code",
      "execution_count": 54,
      "metadata": {
        "colab": {
          "base_uri": "https://localhost:8080/"
        },
        "id": "HxyRiAy0IK4x",
        "outputId": "95a44e1e-c04f-4109-9f9c-63c42cee8882"
      },
      "outputs": [
        {
          "output_type": "stream",
          "name": "stderr",
          "text": [
            "/usr/local/lib/python3.10/dist-packages/sklearn/datasets/_openml.py:968: FutureWarning: The default value of `parser` will change from `'liac-arff'` to `'auto'` in 1.4. You can set `parser='auto'` to silence this warning. Therefore, an `ImportError` will be raised from 1.4 if the dataset is dense and pandas is not installed. Note that the pandas parser may return different data types. See the Notes Section in fetch_openml's API doc for details.\n",
            "  warn(\n"
          ]
        },
        {
          "output_type": "execute_result",
          "data": {
            "text/plain": [
              "(70000, 784)"
            ]
          },
          "metadata": {},
          "execution_count": 54
        }
      ],
      "source": [
        "from sklearn.datasets import fetch_openml\n",
        "from sklearn.model_selection import train_test_split\n",
        "import numpy as np\n",
        "import matplotlib.pyplot as plt\n",
        "\n",
        "mnist = fetch_openml('mnist_784', as_frame=False, cache=False)\n",
        "mnist.data.shape"
      ]
    },
    {
      "cell_type": "code",
      "source": [
        "X = mnist.data.astype('float32')\n",
        "y = mnist.target.astype('int64')\n",
        "X.shape, y.shape"
      ],
      "metadata": {
        "colab": {
          "base_uri": "https://localhost:8080/"
        },
        "id": "yjXSbcGHRYlR",
        "outputId": "706b05c2-816c-4476-9747-cec0077af175"
      },
      "execution_count": 60,
      "outputs": [
        {
          "output_type": "execute_result",
          "data": {
            "text/plain": [
              "((70000, 784), (70000,))"
            ]
          },
          "metadata": {},
          "execution_count": 60
        }
      ]
    },
    {
      "cell_type": "code",
      "source": [
        "X_train, X_test, y_train, y_test = train_test_split(X, y, test_size=0.10, random_state=42)\n",
        "X_train.shape, X_test.shape,y_train.shape, y_test.shape"
      ],
      "metadata": {
        "colab": {
          "base_uri": "https://localhost:8080/"
        },
        "id": "RGDMrQyDLI9P",
        "outputId": "c3c31c77-1ced-44a1-d4f2-7a90671e8778"
      },
      "execution_count": 64,
      "outputs": [
        {
          "output_type": "execute_result",
          "data": {
            "text/plain": [
              "((63000, 784), (7000, 784), (63000,), (7000,))"
            ]
          },
          "metadata": {},
          "execution_count": 64
        }
      ]
    },
    {
      "cell_type": "markdown",
      "source": [
        "### Let's Plot some random samples"
      ],
      "metadata": {
        "id": "5hAo1bI5L5aa"
      }
    },
    {
      "cell_type": "code",
      "source": [
        "def plot_example(X, y):\n",
        "    \"\"\"Plot the first 5 images and their labels in a row.\"\"\"\n",
        "    rows=2\n",
        "    for row in range(rows):\n",
        "        for i, (img, label) in enumerate(zip(X[row:row+5], y[row:row+5])):\n",
        "            img=img.reshape(28, 28) # convert 1d array into 2d\n",
        "            plt.subplot(151 + i)\n",
        "            plt.imshow(img)\n",
        "            plt.xticks([])\n",
        "            plt.yticks([])\n",
        "            plt.title(label)\n",
        "        plt.show()\n",
        "\n",
        "plot_example(X_test, y_test)"
      ],
      "metadata": {
        "colab": {
          "base_uri": "https://localhost:8080/",
          "height": 271
        },
        "id": "pUWsSFJcI0DU",
        "outputId": "a0c31068-0b61-47a3-876e-f15e05cbda3c"
      },
      "execution_count": 58,
      "outputs": [
        {
          "output_type": "display_data",
          "data": {
            "text/plain": [
              "<Figure size 640x480 with 5 Axes>"
            ],
            "image/png": "[encoded data removed]"
          },
          "metadata": {}
        },
        {
          "output_type": "display_data",
          "data": {
            "text/plain": [
              "<Figure size 640x480 with 5 Axes>"
            ],
            "image/png": "[encoded data removed]"
          },
          "metadata": {}
        }
      ]
    },
    {
      "cell_type": "markdown",
      "source": [
        "### Build Logistics Regression Model to Classify Digits:"
      ],
      "metadata": {
        "id": "I4rsgklYLzmS"
      }
    },
    {
      "cell_type": "code",
      "source": [],
      "metadata": {
        "id": "XYOWsRKGLvY3"
      },
      "execution_count": null,
      "outputs": []
    }
  ]
}