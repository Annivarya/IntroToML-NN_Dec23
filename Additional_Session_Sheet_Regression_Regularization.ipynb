{
  "nbformat": 4,
  "nbformat_minor": 0,
  "metadata": {
    "colab": {
      "provenance": [],
      "authorship_tag": "ABX9TyMq1DO0GiQDFpdMgdQNgQFJ",
      "include_colab_link": true
    },
    "kernelspec": {
      "name": "python3",
      "display_name": "Python 3"
    },
    "language_info": {
      "name": "python"
    }
  },
  "cells": [
    {
      "cell_type": "markdown",
      "metadata": {
        "id": "view-in-github",
        "colab_type": "text"
      },
      "source": [
        "<a href=\"https://colab.research.google.com/github/SachinScaler/IntroToML-NN_Dec23/blob/main/Additional_Session_Sheet_Regression_Regularization.ipynb\" target=\"_parent\"><img src=\"https://colab.research.google.com/assets/colab-badge.svg\" alt=\"Open In Colab\"/></a>"
      ]
    },
    {
      "cell_type": "code",
      "execution_count": 105,
      "metadata": {
        "colab": {
          "base_uri": "https://localhost:8080/"
        },
        "id": "I3RM4kn6is7R",
        "outputId": "cfa79ef4-82fb-4203-eb8e-5610ea70a53a"
      },
      "outputs": [
        {
          "output_type": "execute_result",
          "data": {
            "text/plain": [
              "['age', 'sex', 'bmi', 'bp', 's1', 's2', 's3', 's4', 's5', 's6']"
            ]
          },
          "metadata": {},
          "execution_count": 105
        }
      ],
      "source": [
        "from sklearn import datasets\n",
        "\n",
        "data = datasets.load_diabetes()\n",
        "data.feature_names"
      ]
    },
    {
      "cell_type": "code",
      "source": [
        "+112->60"
      ],
      "metadata": {
        "id": "_D3N08v2caKr"
      },
      "execution_count": null,
      "outputs": []
    },
    {
      "cell_type": "code",
      "source": [
        "data"
      ],
      "metadata": {
        "colab": {
          "base_uri": "https://localhost:8080/"
        },
        "id": "lQIy4UsfAl15",
        "outputId": "f893b33f-ac81-4c78-c115-c91f23b246e0"
      },
      "execution_count": 106,
      "outputs": [
        {
          "output_type": "execute_result",
          "data": {
            "text/plain": [
              "{'data': array([[ 0.03807591,  0.05068012,  0.06169621, ..., -0.00259226,\n",
              "          0.01990749, -0.01764613],\n",
              "        [-0.00188202, -0.04464164, -0.05147406, ..., -0.03949338,\n",
              "         -0.06833155, -0.09220405],\n",
              "        [ 0.08529891,  0.05068012,  0.04445121, ..., -0.00259226,\n",
              "          0.00286131, -0.02593034],\n",
              "        ...,\n",
              "        [ 0.04170844,  0.05068012, -0.01590626, ..., -0.01107952,\n",
              "         -0.04688253,  0.01549073],\n",
              "        [-0.04547248, -0.04464164,  0.03906215, ...,  0.02655962,\n",
              "          0.04452873, -0.02593034],\n",
              "        [-0.04547248, -0.04464164, -0.0730303 , ..., -0.03949338,\n",
              "         -0.00422151,  0.00306441]]),\n",
              " 'target': array([151.,  75., 141., 206., 135.,  97., 138.,  63., 110., 310., 101.,\n",
              "         69., 179., 185., 118., 171., 166., 144.,  97., 168.,  68.,  49.,\n",
              "         68., 245., 184., 202., 137.,  85., 131., 283., 129.,  59., 341.,\n",
              "         87.,  65., 102., 265., 276., 252.,  90., 100.,  55.,  61.,  92.,\n",
              "        259.,  53., 190., 142.,  75., 142., 155., 225.,  59., 104., 182.,\n",
              "        128.,  52.,  37., 170., 170.,  61., 144.,  52., 128.,  71., 163.,\n",
              "        150.,  97., 160., 178.,  48., 270., 202., 111.,  85.,  42., 170.,\n",
              "        200., 252., 113., 143.,  51.,  52., 210.,  65., 141.,  55., 134.,\n",
              "         42., 111.,  98., 164.,  48.,  96.,  90., 162., 150., 279.,  92.,\n",
              "         83., 128., 102., 302., 198.,  95.,  53., 134., 144., 232.,  81.,\n",
              "        104.,  59., 246., 297., 258., 229., 275., 281., 179., 200., 200.,\n",
              "        173., 180.,  84., 121., 161.,  99., 109., 115., 268., 274., 158.,\n",
              "        107.,  83., 103., 272.,  85., 280., 336., 281., 118., 317., 235.,\n",
              "         60., 174., 259., 178., 128.,  96., 126., 288.,  88., 292.,  71.,\n",
              "        197., 186.,  25.,  84.,  96., 195.,  53., 217., 172., 131., 214.,\n",
              "         59.,  70., 220., 268., 152.,  47.,  74., 295., 101., 151., 127.,\n",
              "        237., 225.,  81., 151., 107.,  64., 138., 185., 265., 101., 137.,\n",
              "        143., 141.,  79., 292., 178.,  91., 116.,  86., 122.,  72., 129.,\n",
              "        142.,  90., 158.,  39., 196., 222., 277.,  99., 196., 202., 155.,\n",
              "         77., 191.,  70.,  73.,  49.,  65., 263., 248., 296., 214., 185.,\n",
              "         78.,  93., 252., 150.,  77., 208.,  77., 108., 160.,  53., 220.,\n",
              "        154., 259.,  90., 246., 124.,  67.,  72., 257., 262., 275., 177.,\n",
              "         71.,  47., 187., 125.,  78.,  51., 258., 215., 303., 243.,  91.,\n",
              "        150., 310., 153., 346.,  63.,  89.,  50.,  39., 103., 308., 116.,\n",
              "        145.,  74.,  45., 115., 264.,  87., 202., 127., 182., 241.,  66.,\n",
              "         94., 283.,  64., 102., 200., 265.,  94., 230., 181., 156., 233.,\n",
              "         60., 219.,  80.,  68., 332., 248.,  84., 200.,  55.,  85.,  89.,\n",
              "         31., 129.,  83., 275.,  65., 198., 236., 253., 124.,  44., 172.,\n",
              "        114., 142., 109., 180., 144., 163., 147.,  97., 220., 190., 109.,\n",
              "        191., 122., 230., 242., 248., 249., 192., 131., 237.,  78., 135.,\n",
              "        244., 199., 270., 164.,  72.,  96., 306.,  91., 214.,  95., 216.,\n",
              "        263., 178., 113., 200., 139., 139.,  88., 148.,  88., 243.,  71.,\n",
              "         77., 109., 272.,  60.,  54., 221.,  90., 311., 281., 182., 321.,\n",
              "         58., 262., 206., 233., 242., 123., 167.,  63., 197.,  71., 168.,\n",
              "        140., 217., 121., 235., 245.,  40.,  52., 104., 132.,  88.,  69.,\n",
              "        219.,  72., 201., 110.,  51., 277.,  63., 118.,  69., 273., 258.,\n",
              "         43., 198., 242., 232., 175.,  93., 168., 275., 293., 281.,  72.,\n",
              "        140., 189., 181., 209., 136., 261., 113., 131., 174., 257.,  55.,\n",
              "         84.,  42., 146., 212., 233.,  91., 111., 152., 120.,  67., 310.,\n",
              "         94., 183.,  66., 173.,  72.,  49.,  64.,  48., 178., 104., 132.,\n",
              "        220.,  57.]),\n",
              " 'frame': None,\n",
              " 'DESCR': '.. _diabetes_dataset:\\n\\nDiabetes dataset\\n----------------\\n\\nTen baseline variables, age, sex, body mass index, average blood\\npressure, and six blood serum measurements were obtained for each of n =\\n442 diabetes patients, as well as the response of interest, a\\nquantitative measure of disease progression one year after baseline.\\n\\n**Data Set Characteristics:**\\n\\n  :Number of Instances: 442\\n\\n  :Number of Attributes: First 10 columns are numeric predictive values\\n\\n  :Target: Column 11 is a quantitative measure of disease progression one year after baseline\\n\\n  :Attribute Information:\\n      - age     age in years\\n      - sex\\n      - bmi     body mass index\\n      - bp      average blood pressure\\n      - s1      tc, total serum cholesterol\\n      - s2      ldl, low-density lipoproteins\\n      - s3      hdl, high-density lipoproteins\\n      - s4      tch, total cholesterol / HDL\\n      - s5      ltg, possibly log of serum triglycerides level\\n      - s6      glu, blood sugar level\\n\\nNote: Each of these 10 feature variables have been mean centered and scaled by the standard deviation times the square root of `n_samples` (i.e. the sum of squares of each column totals 1).\\n\\nSource URL:\\nhttps://www4.stat.ncsu.edu/~boos/var.select/diabetes.html\\n\\nFor more information see:\\nBradley Efron, Trevor Hastie, Iain Johnstone and Robert Tibshirani (2004) \"Least Angle Regression,\" Annals of Statistics (with discussion), 407-499.\\n(https://web.stanford.edu/~hastie/Papers/LARS/LeastAngle_2002.pdf)\\n',\n",
              " 'feature_names': ['age',\n",
              "  'sex',\n",
              "  'bmi',\n",
              "  'bp',\n",
              "  's1',\n",
              "  's2',\n",
              "  's3',\n",
              "  's4',\n",
              "  's5',\n",
              "  's6'],\n",
              " 'data_filename': 'diabetes_data_raw.csv.gz',\n",
              " 'target_filename': 'diabetes_target.csv.gz',\n",
              " 'data_module': 'sklearn.datasets.data'}"
            ]
          },
          "metadata": {},
          "execution_count": 106
        }
      ]
    },
    {
      "cell_type": "code",
      "source": [
        "### Seperate features and Labels\n",
        "X = data['data']\n",
        "y = data['target']"
      ],
      "metadata": {
        "id": "71KSSqueH9if"
      },
      "execution_count": null,
      "outputs": []
    },
    {
      "cell_type": "code",
      "source": [
        "X.shape"
      ],
      "metadata": {
        "colab": {
          "base_uri": "https://localhost:8080/"
        },
        "id": "FWCKT4PTHxoQ",
        "outputId": "5e6086d9-0544-4e76-b462-7bab553b5ba6"
      },
      "execution_count": null,
      "outputs": [
        {
          "output_type": "execute_result",
          "data": {
            "text/plain": [
              "(442, 10)"
            ]
          },
          "metadata": {},
          "execution_count": 90
        }
      ]
    },
    {
      "cell_type": "code",
      "source": [
        "y.shape"
      ],
      "metadata": {
        "colab": {
          "base_uri": "https://localhost:8080/"
        },
        "id": "if8KQ2KQHzFd",
        "outputId": "99c74807-bd78-4ae1-da49-54f941c78d8b"
      },
      "execution_count": null,
      "outputs": [
        {
          "output_type": "execute_result",
          "data": {
            "text/plain": [
              "(442,)"
            ]
          },
          "metadata": {},
          "execution_count": 91
        }
      ]
    },
    {
      "cell_type": "code",
      "source": [],
      "metadata": {
        "id": "CBBeTL4uBEfi"
      },
      "execution_count": null,
      "outputs": []
    },
    {
      "cell_type": "code",
      "source": [
        "from sklearn.model_selection import train_test_split\n",
        "from sklearn.preprocessing import StandardScaler,PolynomialFeatures\n",
        "\n",
        "\n",
        "# Split the data into training and testing sets\n",
        "X_train, X_test, y_train, y_test = train_test_split(X, y, test_size=0.2, random_state=42)"
      ],
      "metadata": {
        "id": "jzTeutT9iwNx"
      },
      "execution_count": null,
      "outputs": []
    },
    {
      "cell_type": "code",
      "source": [
        "### scaling\n",
        "scaler = StandardScaler()\n",
        "X_train_scaled = scaler.fit_transform(X_train) # learn sd and mean from training set and transform train set\n",
        "X_test_scaled = scaler.transform(X_test) # transform test set"
      ],
      "metadata": {
        "id": "4UJ1K17XBka9"
      },
      "execution_count": 107,
      "outputs": []
    },
    {
      "cell_type": "code",
      "source": [
        "from sklearn.linear_model import LinearRegression\n",
        "\n",
        "\n",
        "lr = LinearRegression()\n",
        "lr.fit(X_train_scaled,y_train)\n",
        "print(\"Train r2_score:\",lr.score(X_train_scaled,y_train))\n",
        "print(\"Test r2_score:\",lr.score(X_test_scaled,y_test))"
      ],
      "metadata": {
        "colab": {
          "base_uri": "https://localhost:8080/"
        },
        "id": "3kSmUa5bBN42",
        "outputId": "1b364988-be46-4633-a2be-91eb2bb63dbf"
      },
      "execution_count": 110,
      "outputs": [
        {
          "output_type": "stream",
          "name": "stdout",
          "text": [
            "Train r2_score: 0.4993944835835079\n",
            "Test r2_score: 0.4746690345973129\n"
          ]
        }
      ]
    },
    {
      "cell_type": "code",
      "source": [
        "X_train_scaled.shape"
      ],
      "metadata": {
        "colab": {
          "base_uri": "https://localhost:8080/"
        },
        "id": "uw29uHMvBOC_",
        "outputId": "623b43f4-df20-48f0-b655-1f05bd5fd7d9"
      },
      "execution_count": 111,
      "outputs": [
        {
          "output_type": "execute_result",
          "data": {
            "text/plain": [
              "(398, 10)"
            ]
          },
          "metadata": {},
          "execution_count": 111
        }
      ]
    },
    {
      "cell_type": "code",
      "source": [
        "# Transform the features into polynomial features\n",
        "degree = 5\n",
        "poly = PolynomialFeatures(degree=degree)\n",
        "X_train_poly = poly.fit_transform(X_train_scaled)\n",
        "X_test_poly = poly.transform(X_test_scaled)"
      ],
      "metadata": {
        "id": "FU_t2_CBiydq"
      },
      "execution_count": 115,
      "outputs": []
    },
    {
      "cell_type": "code",
      "source": [
        "X_train_poly.shape"
      ],
      "metadata": {
        "colab": {
          "base_uri": "https://localhost:8080/"
        },
        "id": "VieTPS9FEOe8",
        "outputId": "00c9f0c6-8438-4396-a5a8-f2da0c71378c"
      },
      "execution_count": 116,
      "outputs": [
        {
          "output_type": "execute_result",
          "data": {
            "text/plain": [
              "(398, 3003)"
            ]
          },
          "metadata": {},
          "execution_count": 116
        }
      ]
    },
    {
      "cell_type": "code",
      "source": [
        "poly_lr = LinearRegression()\n",
        "poly_lr.fit(X_train_poly,y_train)\n",
        "\n",
        "print(\"Train r2_score:\",poly_lr.score(X_train_poly,y_train))\n",
        "print(\"Test r2_score:\",poly_lr.score(X_test_poly,y_test))"
      ],
      "metadata": {
        "colab": {
          "base_uri": "https://localhost:8080/"
        },
        "id": "UHTuxQpBEJEq",
        "outputId": "9596f6ef-e778-41e8-ce15-09f1de0e1a47"
      },
      "execution_count": 117,
      "outputs": [
        {
          "output_type": "stream",
          "name": "stdout",
          "text": [
            "Train r2_score: 1.0\n",
            "Test r2_score: -1.1907197331820556\n"
          ]
        }
      ]
    },
    {
      "cell_type": "code",
      "source": [
        "for degree in range(1,5):\n",
        "    poly = PolynomialFeatures(degree=degree)\n",
        "    X_train_poly = poly.fit_transform(X_train_scaled)\n",
        "    X_test_poly = poly.transform(X_test_scaled)\n",
        "    poly_lr = LinearRegression()\n",
        "    poly_lr.fit(X_train_poly,y_train)\n",
        "\n",
        "    print(\"*\"*50)\n",
        "    print(\"Degree: \", degree)\n",
        "    print(\"Train r2_score:\",poly_lr.score(X_train_poly,y_train))\n",
        "    print(\"Test r2_score:\",poly_lr.score(X_test_poly,y_test))"
      ],
      "metadata": {
        "colab": {
          "base_uri": "https://localhost:8080/"
        },
        "id": "CNHrJuJZEkWC",
        "outputId": "0bd32f2c-06c8-4a2c-a197-7d668a9d408e"
      },
      "execution_count": 118,
      "outputs": [
        {
          "output_type": "stream",
          "name": "stdout",
          "text": [
            "**************************************************\n",
            "Degree:  1\n",
            "Train r2_score: 0.4993944835835078\n",
            "Test r2_score: 0.4746690345973129\n",
            "**************************************************\n",
            "Degree:  2\n",
            "Train r2_score: 0.5847149658001287\n",
            "Test r2_score: 0.5712813421613747\n",
            "**************************************************\n",
            "Degree:  3\n",
            "Train r2_score: 0.8206580428124358\n",
            "Test r2_score: -0.9665704109906996\n",
            "**************************************************\n",
            "Degree:  4\n",
            "Train r2_score: 1.0\n",
            "Test r2_score: -4.322971520598675\n"
          ]
        }
      ]
    },
    {
      "cell_type": "code",
      "source": [
        "from sklearn.linear_model import LinearRegression, Ridge, Lasso\n",
        "\n",
        "\n",
        "\n",
        "poly_lr = Ridge(alpha=0.1)\n",
        "poly_lr.fit(X_train_poly,y_train)\n",
        "\n",
        "print(\"*\"*50)\n",
        "print(\"Degree: \", degree)\n",
        "print(\"Train r2_score:\",poly_lr.score(X_train_poly,y_train))\n",
        "print(\"Test r2_score:\",poly_lr.score(X_test_poly,y_test))"
      ],
      "metadata": {
        "colab": {
          "base_uri": "https://localhost:8080/"
        },
        "id": "hC3Aw_o3HhAC",
        "outputId": "56d09e04-4024-486b-df6f-3a4b6faf9d3d"
      },
      "execution_count": 119,
      "outputs": [
        {
          "output_type": "stream",
          "name": "stdout",
          "text": [
            "**************************************************\n",
            "Degree:  4\n",
            "Train r2_score: 0.9988324705394817\n",
            "Test r2_score: -2.805368252921979\n"
          ]
        }
      ]
    },
    {
      "cell_type": "markdown",
      "source": [],
      "metadata": {
        "id": "-1sWpfsYm9Nz"
      }
    },
    {
      "cell_type": "markdown",
      "source": [
        "### Fit Models:"
      ],
      "metadata": {
        "id": "q0-Ia7S_m9LS"
      }
    },
    {
      "cell_type": "code",
      "source": [
        "from sklearn.linear_model import LinearRegression, Ridge, Lasso\n",
        "\n",
        "alpha = 0.2\n",
        "\n",
        "lr = LinearRegression()\n",
        "r2_lr = Ridge(alpha)\n",
        "r1_lr = Lasso(alpha)\n",
        "\n",
        "all_models= (lr, r2_lr,r1_lr)\n",
        "\n",
        "for degree in range(1,5):\n",
        "    for model in (all_models):\n",
        "        poly = PolynomialFeatures(degree=degree)\n",
        "        X_train_poly = poly.fit_transform(X_train_scaled)\n",
        "        X_test_poly = poly.transform(X_test_scaled)\n",
        "        model.fit(X_train_poly,y_train)\n",
        "\n",
        "        print(\"*\"*50)\n",
        "        print(\"Model:\", model)\n",
        "        print(\"Degree: \", degree)\n",
        "        print(\"Train r2_score:\",model.score(X_train_poly,y_train))\n",
        "        print(\"Test r2_score:\",model.score(X_test_poly,y_test))"
      ],
      "metadata": {
        "colab": {
          "base_uri": "https://localhost:8080/"
        },
        "id": "BSf2_1V-GqEC",
        "outputId": "b3e16cb9-5ed8-4075-c984-292c53f2bc52"
      },
      "execution_count": 121,
      "outputs": [
        {
          "output_type": "stream",
          "name": "stdout",
          "text": [
            "**************************************************\n",
            "Model: LinearRegression()\n",
            "Degree:  1\n",
            "Train r2_score: 0.4993944835835078\n",
            "Test r2_score: 0.4746690345973129\n",
            "**************************************************\n",
            "Model: Ridge(alpha=0.2)\n",
            "Degree:  1\n",
            "Train r2_score: 0.4993848464304065\n",
            "Test r2_score: 0.4748690612766746\n",
            "**************************************************\n",
            "Model: Lasso(alpha=0.2)\n",
            "Degree:  1\n",
            "Train r2_score: 0.4980896877513983\n",
            "Test r2_score: 0.477003675826265\n",
            "**************************************************\n",
            "Model: LinearRegression()\n",
            "Degree:  2\n",
            "Train r2_score: 0.5847149658001287\n",
            "Test r2_score: 0.5712813421613747\n",
            "**************************************************\n",
            "Model: Ridge(alpha=0.2)\n",
            "Degree:  2\n",
            "Train r2_score: 0.5812379003324004\n",
            "Test r2_score: 0.5731989412049583\n",
            "**************************************************\n",
            "Model: Lasso(alpha=0.2)\n",
            "Degree:  2\n",
            "Train r2_score: 0.5748245150521191\n",
            "Test r2_score: 0.5819186809262871\n",
            "**************************************************\n",
            "Model: LinearRegression()\n",
            "Degree:  3\n",
            "Train r2_score: 0.8206580428124358\n",
            "Test r2_score: -0.9665704109906996\n",
            "**************************************************\n",
            "Model: Ridge(alpha=0.2)\n",
            "Degree:  3\n",
            "Train r2_score: 0.7663723962128269\n",
            "Test r2_score: 0.5609202505079508\n",
            "**************************************************\n",
            "Model: Lasso(alpha=0.2)\n",
            "Degree:  3\n",
            "Train r2_score: 0.7030858831849975\n",
            "Test r2_score: 0.6056631100774251\n"
          ]
        },
        {
          "output_type": "stream",
          "name": "stderr",
          "text": [
            "/usr/local/lib/python3.10/dist-packages/sklearn/linear_model/_coordinate_descent.py:631: ConvergenceWarning: Objective did not converge. You might want to increase the number of iterations, check the scale of the features or consider increasing regularisation. Duality gap: 8.544e+04, tolerance: 2.373e+02\n",
            "  model = cd_fast.enet_coordinate_descent(\n"
          ]
        },
        {
          "output_type": "stream",
          "name": "stdout",
          "text": [
            "**************************************************\n",
            "Model: LinearRegression()\n",
            "Degree:  4\n",
            "Train r2_score: 1.0\n",
            "Test r2_score: -4.322971520598675\n",
            "**************************************************\n",
            "Model: Ridge(alpha=0.2)\n",
            "Degree:  4\n",
            "Train r2_score: 0.996856590701699\n",
            "Test r2_score: -2.095900124041404\n",
            "**************************************************\n",
            "Model: Lasso(alpha=0.2)\n",
            "Degree:  4\n",
            "Train r2_score: 0.8966077773340358\n",
            "Test r2_score: 0.540954637434224\n"
          ]
        },
        {
          "output_type": "stream",
          "name": "stderr",
          "text": [
            "/usr/local/lib/python3.10/dist-packages/sklearn/linear_model/_coordinate_descent.py:631: ConvergenceWarning: Objective did not converge. You might want to increase the number of iterations, check the scale of the features or consider increasing regularisation. Duality gap: 1.048e+05, tolerance: 2.373e+02\n",
            "  model = cd_fast.enet_coordinate_descent(\n"
          ]
        }
      ]
    },
    {
      "cell_type": "code",
      "source": [
        "from sklearn.preprocessing import StandardScaler\n",
        "from sklearn.linear_model import LinearRegression, Ridge, Lasso\n",
        "from sklearn.pipeline import make_pipeline\n",
        "\n",
        "train_scores = []\n",
        "test_scores = []\n",
        "\n",
        "degree = 3\n",
        "alpha = 0.3\n",
        "\n",
        "lr=LinearRegression()\n",
        "ridge=Ridge(alpha)\n",
        "lasso = Lasso(alpha)\n",
        "\n",
        "models=(lr,ridge,lasso)\n",
        "for model in models:\n",
        "    polyreg_scaled = make_pipeline(PolynomialFeatures(degree), StandardScaler(), model)\n",
        "    polyreg_scaled.fit(X_train, y_train)\n",
        "    train_score = polyreg_scaled.score(X_train, y_train)\n",
        "    test_score = polyreg_scaled.score(X_test, y_test)\n",
        "    train_scores.append(train_score)\n",
        "    test_scores.append(test_score)\n",
        "\n"
      ],
      "metadata": {
        "id": "VpdhOf62mYhv",
        "colab": {
          "base_uri": "https://localhost:8080/"
        },
        "outputId": "f750aba1-af80-4956-e234-0b6ab68e1ad4"
      },
      "execution_count": 122,
      "outputs": [
        {
          "output_type": "stream",
          "name": "stderr",
          "text": [
            "/usr/local/lib/python3.10/dist-packages/sklearn/linear_model/_coordinate_descent.py:631: ConvergenceWarning: Objective did not converge. You might want to increase the number of iterations, check the scale of the features or consider increasing regularisation. Duality gap: 5.799e+03, tolerance: 2.373e+02\n",
            "  model = cd_fast.enet_coordinate_descent(\n"
          ]
        }
      ]
    },
    {
      "cell_type": "code",
      "source": [
        "print(list(zip(models,train_scores,test_scores)))"
      ],
      "metadata": {
        "colab": {
          "base_uri": "https://localhost:8080/"
        },
        "id": "eqX_D_Efvk54",
        "outputId": "6a237e54-96cc-42a8-9a9e-d29a78e8781a"
      },
      "execution_count": 123,
      "outputs": [
        {
          "output_type": "stream",
          "name": "stdout",
          "text": [
            "[(LinearRegression(), 0.7871903126933942, -1.019883111549019), (Ridge(alpha=0.3), 0.7521282111726949, 0.5848962346966506), (Lasso(alpha=0.3), 0.6693210391368867, 0.6251967828650822)]\n"
          ]
        }
      ]
    },
    {
      "cell_type": "markdown",
      "source": [
        "Hyperparameter tuningL"
      ],
      "metadata": {
        "id": "6dwO5gexvTpL"
      }
    },
    {
      "cell_type": "code",
      "source": [
        "alpha_list = [0.0001, 0.001, 0.01, 0.1, 1, 10]\n",
        "train_scores = []\n",
        "test_scores = []\n",
        "degree = 3\n",
        "\n",
        "for alpha in alpha_list:\n",
        "    model = Lasso(alpha)\n",
        "    polyreg_scaled = make_pipeline(PolynomialFeatures(degree), StandardScaler(), model)\n",
        "    polyreg_scaled.fit(X_train, y_train)\n",
        "    train_score = polyreg_scaled.score(X_train, y_train)\n",
        "    test_score = polyreg_scaled.score(X_test, y_test)\n",
        "\n",
        "\n",
        "    train_scores.append(train_score)\n",
        "    test_scores.append(test_score)\n",
        "\n",
        "    print(\"*\"*50)\n",
        "    print(\"alpha:\", alpha)\n",
        "    print(\"Train r2_score:\",polyreg_scaled.score(X_train,y_train))\n",
        "    print(\"Test r2_score:\",polyreg_scaled.score(X_test,y_test))"
      ],
      "metadata": {
        "colab": {
          "base_uri": "https://localhost:8080/"
        },
        "id": "4VdYfKS3vSyU",
        "outputId": "db83aa51-15ce-4d3b-8595-c99f6e07f953"
      },
      "execution_count": 128,
      "outputs": [
        {
          "output_type": "stream",
          "name": "stderr",
          "text": [
            "/usr/local/lib/python3.10/dist-packages/sklearn/linear_model/_coordinate_descent.py:631: ConvergenceWarning: Objective did not converge. You might want to increase the number of iterations, check the scale of the features or consider increasing regularisation. Duality gap: 2.896e+05, tolerance: 2.373e+02\n",
            "  model = cd_fast.enet_coordinate_descent(\n"
          ]
        },
        {
          "output_type": "stream",
          "name": "stdout",
          "text": [
            "**************************************************\n",
            "alpha: 0.0001\n",
            "Train r2_score: 0.7553917527123641\n",
            "Test r2_score: 0.5699551994759929\n"
          ]
        },
        {
          "output_type": "stream",
          "name": "stderr",
          "text": [
            "/usr/local/lib/python3.10/dist-packages/sklearn/linear_model/_coordinate_descent.py:631: ConvergenceWarning: Objective did not converge. You might want to increase the number of iterations, check the scale of the features or consider increasing regularisation. Duality gap: 2.835e+05, tolerance: 2.373e+02\n",
            "  model = cd_fast.enet_coordinate_descent(\n"
          ]
        },
        {
          "output_type": "stream",
          "name": "stdout",
          "text": [
            "**************************************************\n",
            "alpha: 0.001\n",
            "Train r2_score: 0.7552252900238544\n",
            "Test r2_score: 0.5702324459621245\n"
          ]
        },
        {
          "output_type": "stream",
          "name": "stderr",
          "text": [
            "/usr/local/lib/python3.10/dist-packages/sklearn/linear_model/_coordinate_descent.py:631: ConvergenceWarning: Objective did not converge. You might want to increase the number of iterations, check the scale of the features or consider increasing regularisation. Duality gap: 2.130e+05, tolerance: 2.373e+02\n",
            "  model = cd_fast.enet_coordinate_descent(\n"
          ]
        },
        {
          "output_type": "stream",
          "name": "stdout",
          "text": [
            "**************************************************\n",
            "alpha: 0.01\n",
            "Train r2_score: 0.7524281384030708\n",
            "Test r2_score: 0.5713665210997763\n"
          ]
        },
        {
          "output_type": "stream",
          "name": "stderr",
          "text": [
            "/usr/local/lib/python3.10/dist-packages/sklearn/linear_model/_coordinate_descent.py:631: ConvergenceWarning: Objective did not converge. You might want to increase the number of iterations, check the scale of the features or consider increasing regularisation. Duality gap: 1.615e+04, tolerance: 2.373e+02\n",
            "  model = cd_fast.enet_coordinate_descent(\n"
          ]
        },
        {
          "output_type": "stream",
          "name": "stdout",
          "text": [
            "**************************************************\n",
            "alpha: 0.1\n",
            "Train r2_score: 0.713827439667885\n",
            "Test r2_score: 0.5868074168052643\n",
            "**************************************************\n",
            "alpha: 1\n",
            "Train r2_score: 0.6105369934047944\n",
            "Test r2_score: 0.6151127018259179\n",
            "**************************************************\n",
            "alpha: 10\n",
            "Train r2_score: 0.45066724780828893\n",
            "Test r2_score: 0.46954593758717544\n"
          ]
        }
      ]
    },
    {
      "cell_type": "code",
      "source": [
        "import matplotlib.pyplot as plt\n",
        "\n",
        "plt.figure(figsize=(5,5))\n",
        "plt.plot(alpha_list, train_scores, label=\"train\")\n",
        "plt.plot(alpha_list, test_scores, label=\"test\")\n",
        "plt.xlabel(\"alpha\")\n",
        "plt.ylabel(\"R-score\")\n",
        "plt.grid()\n",
        "plt.show()"
      ],
      "metadata": {
        "colab": {
          "base_uri": "https://localhost:8080/",
          "height": 465
        },
        "id": "gpdKQ_CJvLYB",
        "outputId": "f9ebff97-944a-4ca3-d0db-f951edab7a2b"
      },
      "execution_count": 125,
      "outputs": [
        {
          "output_type": "display_data",
          "data": {
            "text/plain": [
              "<Figure size 500x500 with 1 Axes>"
            ],
            "image/png": "[encoded data removed]"
          },
          "metadata": {}
        }
      ]
    },
    {
      "cell_type": "markdown",
      "source": [
        "```\n",
        "1) to find the best value of alpha we are using train and test scores\n",
        "2) the value alpha will change/impact the model\n",
        "-> Hence test scores are used to tune the model hence \"DATA LEAKAGE\"\n",
        "```"
      ],
      "metadata": {
        "id": "9j8A8FdrOqvZ"
      }
    },
    {
      "cell_type": "code",
      "source": [],
      "metadata": {
        "id": "WENJCt2FOqC0"
      },
      "execution_count": null,
      "outputs": []
    },
    {
      "cell_type": "markdown",
      "source": [
        "### Cross Validation and Hyperparameter tuning"
      ],
      "metadata": {
        "id": "0xycn4W2IOe2"
      }
    },
    {
      "cell_type": "code",
      "source": [
        "from sklearn.model_selection import train_test_split\n",
        "from sklearn.preprocessing import StandardScaler,PolynomialFeatures\n",
        "\n",
        "# Split the data into training and testing sets\n",
        "X_train, X_test, y_train, y_test = train_test_split(X, y, test_size=0.2, random_state=42)"
      ],
      "metadata": {
        "id": "knSmBw3ci02J"
      },
      "execution_count": null,
      "outputs": []
    },
    {
      "cell_type": "markdown",
      "source": [
        "```\n",
        "Train: 80%\n",
        "test: 20%\n",
        "```"
      ],
      "metadata": {
        "id": "OVtjiGddRMeU"
      }
    },
    {
      "cell_type": "code",
      "source": [
        "# Split the data into training and testing sets\n",
        "X_train, X_val, y_train, y_val = train_test_split(X_train, y_train, test_size=0.25, random_state=42)"
      ],
      "metadata": {
        "id": "DPl4JvjrmeHI"
      },
      "execution_count": null,
      "outputs": []
    },
    {
      "cell_type": "markdown",
      "source": [
        "```\n",
        "Train: 0.60\n",
        "Val: 0.20\n",
        "Test: 0.20\n",
        "```"
      ],
      "metadata": {
        "id": "hKoXEtSpRaxp"
      }
    },
    {
      "cell_type": "code",
      "source": [
        "print(X_train.shape, X_val.shape,X_test.shape, y_train.shape, y_val.shape,y_test.shape)"
      ],
      "metadata": {
        "colab": {
          "base_uri": "https://localhost:8080/"
        },
        "id": "jN1WAFBBpe3x",
        "outputId": "fb56f180-c663-4982-ce69-d7aae913635a"
      },
      "execution_count": 129,
      "outputs": [
        {
          "output_type": "stream",
          "name": "stdout",
          "text": [
            "(398, 10) (44, 10) (89, 10) (398,) (44,) (89,)\n"
          ]
        }
      ]
    },
    {
      "cell_type": "markdown",
      "source": [
        "```\n",
        "1) Train model on Train Set\n",
        "2) Find value of Degree and alpha using Validation Set\n",
        "3) Check Performance of Final Model on Unseen Data i.e Test Set\n",
        "```"
      ],
      "metadata": {
        "id": "TC3eHgg5R60-"
      }
    },
    {
      "cell_type": "markdown",
      "source": [
        "### k-fold cross Validation"
      ],
      "metadata": {
        "id": "lnJx7YGwqhEP"
      }
    },
    {
      "cell_type": "code",
      "source": [
        "from sklearn.model_selection import KFold\n",
        "kf = KFold(n_splits=5)\n",
        "for train_index, val_index in kf.split(X): #iterating through the K-folds\n",
        "    X_train, X_val = X[train_index], X[val_index]\n",
        "    y_train, y_val = y[train_index], y[val_index]\n",
        "\n",
        "    print(X_train.shape,X_val.shape)\n",
        "    ## to do: fit ML pipeline with different values of degree\n"
      ],
      "metadata": {
        "id": "drx4RkLGyeW_",
        "colab": {
          "base_uri": "https://localhost:8080/"
        },
        "outputId": "5bc933fa-2f60-4639-b6df-ab61a598f448"
      },
      "execution_count": 131,
      "outputs": [
        {
          "output_type": "stream",
          "name": "stdout",
          "text": [
            "(353, 10) (89, 10)\n",
            "(353, 10) (89, 10)\n",
            "(354, 10) (88, 10)\n",
            "(354, 10) (88, 10)\n",
            "(354, 10) (88, 10)\n"
          ]
        }
      ]
    },
    {
      "cell_type": "code",
      "source": [
        "from sklearn.model_selection import KFold, cross_val_score\n",
        "\n",
        "# Transform the features into polynomial features\n",
        "degree = 3\n",
        "lasso = Lasso(0.3)\n",
        "\n",
        "kf = KFold(n_splits=5, shuffle=True, random_state=42)\n",
        "\n",
        "lasso_pipe = make_pipeline(PolynomialFeatures(degree), StandardScaler(), lasso)\n",
        "\n",
        "# Evaluate the model using cross-validation\n",
        "scores = cross_val_score(lasso_pipe, X, y, cv=kf, scoring='r2')"
      ],
      "metadata": {
        "colab": {
          "base_uri": "https://localhost:8080/"
        },
        "id": "kDJixJvLpqK_",
        "outputId": "40e59cd0-e1fb-4d5c-c4dc-b7d801149383"
      },
      "execution_count": 134,
      "outputs": [
        {
          "output_type": "stream",
          "name": "stderr",
          "text": [
            "/usr/local/lib/python3.10/dist-packages/sklearn/linear_model/_coordinate_descent.py:631: ConvergenceWarning: Objective did not converge. You might want to increase the number of iterations, check the scale of the features or consider increasing regularisation. Duality gap: 5.963e+03, tolerance: 2.145e+02\n",
            "  model = cd_fast.enet_coordinate_descent(\n",
            "/usr/local/lib/python3.10/dist-packages/sklearn/linear_model/_coordinate_descent.py:631: ConvergenceWarning: Objective did not converge. You might want to increase the number of iterations, check the scale of the features or consider increasing regularisation. Duality gap: 3.917e+03, tolerance: 2.054e+02\n",
            "  model = cd_fast.enet_coordinate_descent(\n",
            "/usr/local/lib/python3.10/dist-packages/sklearn/linear_model/_coordinate_descent.py:631: ConvergenceWarning: Objective did not converge. You might want to increase the number of iterations, check the scale of the features or consider increasing regularisation. Duality gap: 3.459e+02, tolerance: 2.136e+02\n",
            "  model = cd_fast.enet_coordinate_descent(\n",
            "/usr/local/lib/python3.10/dist-packages/sklearn/linear_model/_coordinate_descent.py:631: ConvergenceWarning: Objective did not converge. You might want to increase the number of iterations, check the scale of the features or consider increasing regularisation. Duality gap: 8.093e+02, tolerance: 2.029e+02\n",
            "  model = cd_fast.enet_coordinate_descent(\n"
          ]
        },
        {
          "output_type": "stream",
          "name": "stdout",
          "text": [
            "r2 score: 0.23 (+/- 0.08)\n"
          ]
        },
        {
          "output_type": "stream",
          "name": "stderr",
          "text": [
            "/usr/local/lib/python3.10/dist-packages/sklearn/linear_model/_coordinate_descent.py:631: ConvergenceWarning: Objective did not converge. You might want to increase the number of iterations, check the scale of the features or consider increasing regularisation. Duality gap: 6.840e+03, tolerance: 2.113e+02\n",
            "  model = cd_fast.enet_coordinate_descent(\n"
          ]
        }
      ]
    },
    {
      "cell_type": "code",
      "source": [
        "scores"
      ],
      "metadata": {
        "colab": {
          "base_uri": "https://localhost:8080/"
        },
        "id": "HcvKMkUNWYtN",
        "outputId": "9f30d81f-6d0b-4e18-b74a-09e495980e16"
      },
      "execution_count": 136,
      "outputs": [
        {
          "output_type": "execute_result",
          "data": {
            "text/plain": [
              "array([0.34181768, 0.28748063, 0.17182171, 0.1230496 , 0.22102072])"
            ]
          },
          "metadata": {},
          "execution_count": 136
        }
      ]
    },
    {
      "cell_type": "code",
      "source": [
        "# Print the mean and standard deviation of scores\n",
        "print(\"r2 score: %0.2f (+/- %0.2f)\" % (scores.mean(), scores.std()))"
      ],
      "metadata": {
        "colab": {
          "base_uri": "https://localhost:8080/"
        },
        "id": "AETA2fwlWNQn",
        "outputId": "c812c23d-d90e-4911-c438-abef4dbf8039"
      },
      "execution_count": 137,
      "outputs": [
        {
          "output_type": "stream",
          "name": "stdout",
          "text": [
            "r2 score: 0.23 (+/- 0.08)\n"
          ]
        }
      ]
    },
    {
      "cell_type": "code",
      "source": [
        "import numpy as np\n",
        "\n",
        "np.logspace(0, 0.5, 10)"
      ],
      "metadata": {
        "colab": {
          "base_uri": "https://localhost:8080/"
        },
        "id": "7umGJeW5tfjh",
        "outputId": "2c09a656-be7c-4c04-85e1-7b77d31d59e6"
      },
      "execution_count": 146,
      "outputs": [
        {
          "output_type": "execute_result",
          "data": {
            "text/plain": [
              "array([1.        , 1.13646367, 1.29154967, 1.46779927, 1.66810054,\n",
              "       1.89573565, 2.15443469, 2.44843675, 2.7825594 , 3.16227766])"
            ]
          },
          "metadata": {},
          "execution_count": 146
        }
      ]
    },
    {
      "cell_type": "code",
      "source": [
        "from sklearn.model_selection import GridSearchCV, KFold\n",
        "from sklearn.linear_model import Lasso\n",
        "from sklearn.metrics import r2_score\n",
        "\n",
        "\n",
        "# Define hyperparameter grid for Lasso regression\n",
        "param_grid = {'alpha': np.logspace(0, 0.5, 10), # Explore alpha values in a logarithmic range\n",
        "              'fit_intercept': [True, False]}\n",
        "\n",
        "# Create GridSearchCV object\n",
        "grid_search = GridSearchCV(estimator=Lasso(), param_grid=param_grid, cv=KFold(n_splits=5), scoring='r2')\n",
        "\n",
        "# Fit the model to the data\n",
        "grid_search.fit(X, y)\n",
        "\n",
        "# Print best hyperparameters and score\n",
        "print(\"Best alpha:\", grid_search.best_params_)\n",
        "print(\"Best cross-validation r2_score:\", grid_search.best_score_)\n",
        "\n",
        "# Get the best model\n",
        "best_model = grid_search.best_estimator_"
      ],
      "metadata": {
        "colab": {
          "base_uri": "https://localhost:8080/"
        },
        "id": "szv0mc0IrY78",
        "outputId": "441475c7-f02d-4905-c5c6-b20607455e27"
      },
      "execution_count": 147,
      "outputs": [
        {
          "output_type": "stream",
          "name": "stdout",
          "text": [
            "Best alpha: {'alpha': 1.0, 'fit_intercept': True}\n",
            "Best cross-validation r2_score: 0.3375593674654274\n"
          ]
        }
      ]
    },
    {
      "cell_type": "code",
      "source": [
        "# Make predictions on new data\n",
        "predictions = best_model.predict(X_test)\n",
        "\n",
        "\n",
        "print(\"Unseen data r2_score:\", r2_score(y_test,predictions))"
      ],
      "metadata": {
        "id": "H74Crzkpspqn",
        "colab": {
          "base_uri": "https://localhost:8080/"
        },
        "outputId": "5ea85c34-53f8-4931-cfdc-69a6b67ddc05"
      },
      "execution_count": 148,
      "outputs": [
        {
          "output_type": "stream",
          "name": "stdout",
          "text": [
            "Unseen data r2_score: 0.3610910144887254\n"
          ]
        }
      ]
    },
    {
      "cell_type": "markdown",
      "source": [
        "TO EXPLORE:\n",
        "- RandomSearchCV\n",
        "- BayesianSearchCV"
      ],
      "metadata": {
        "id": "R1mJC5gkYzmH"
      }
    },
    {
      "cell_type": "markdown",
      "source": [
        "- Recursive Feature Elimination\n",
        "    - forward Elimination\n",
        "    - backward Elimination"
      ],
      "metadata": {
        "id": "IRLrJynldaov"
      }
    },
    {
      "cell_type": "code",
      "source": [],
      "metadata": {
        "id": "Hr9GK3A6dZsF"
      },
      "execution_count": 148,
      "outputs": []
    },
    {
      "cell_type": "code",
      "source": [],
      "metadata": {
        "id": "dGevhrVhXzWK"
      },
      "execution_count": null,
      "outputs": []
    }
  ]
}